{
 "cells": [
  {
   "cell_type": "markdown",
   "id": "637fc1b9",
   "metadata": {},
   "source": [
    "##  Generating Synthetic Reviews\n",
    "\n",
    "This code converts numeric movie ratings into simple text reviews to simulate user opinions.\n",
    "\n",
    "- Loads `ratings.csv` containing user ratings.\n",
    "- Maps each rating (0–5) to a short review sentence using `rating_to_review()` function.\n",
    "- Adds a new column `\"review\"` with the generated text.\n",
    "- Keeps only `movieId` and `review`, and saves them to `reviews.csv`.\n",
    "\n",
    " This allows us to use text-based sentiment in movie recommendation systems.\n"
   ]
  },
  {
   "cell_type": "code",
   "execution_count": null,
   "id": "030c9390",
   "metadata": {},
   "outputs": [
    {
     "name": "stdout",
     "output_type": "stream",
     "text": [
      "✅ reviews.csv file generated successfully.\n"
     ]
    }
   ],
   "source": [
    "import pandas as pd\n",
    "import numpy as np\n",
    "# Load original ratings.csv\n",
    "ratings = pd.read_csv(\"ratings.csv\")\n",
    "# Define simple mapping from rating to review text\n",
    "def rating_to_review(rating):\n",
    "    if rating >= 4.5:\n",
    "        return \"Absolutely loved it!\"\n",
    "    elif rating >= 4.0:\n",
    "        return \"Great movie, really enjoyed it.\"\n",
    "    elif rating >= 3.0:\n",
    "        return \"It was decent, not bad.\"\n",
    "    elif rating >= 2.0:\n",
    "        return \"Not great, could be better.\"\n",
    "    else:\n",
    "        return \"Didn't like it at all.\"\n",
    "# Generate synthetic reviews\n",
    "ratings['review'] = ratings['rating'].apply(rating_to_review)\n",
    "# Keep only movieId and review\n",
    "reviews = ratings[['movieId', 'review']]\n",
    "# Save to CSV\n",
    "reviews.to_csv(\"reviews.csv\", index=False)\n",
    "print(\"reviews.csv file generated successfully.\")"
   ]
  }
 ],
 "metadata": {
  "kernelspec": {
   "display_name": "Python 3",
   "language": "python",
   "name": "python3"
  },
  "language_info": {
   "codemirror_mode": {
    "name": "ipython",
    "version": 3
   },
   "file_extension": ".py",
   "mimetype": "text/x-python",
   "name": "python",
   "nbconvert_exporter": "python",
   "pygments_lexer": "ipython3",
   "version": "3.11.4"
  }
 },
 "nbformat": 4,
 "nbformat_minor": 5
}
